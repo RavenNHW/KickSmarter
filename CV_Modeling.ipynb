{
 "cells": [
  {
   "cell_type": "code",
   "execution_count": 1,
   "metadata": {},
   "outputs": [],
   "source": [
    "from src.modeling import *\n",
    "\n",
    "%reload_ext autoreload\n",
    "%autoreload 2"
   ]
  },
  {
   "cell_type": "code",
   "execution_count": 2,
   "metadata": {},
   "outputs": [],
   "source": [
    "train_df = pd.read_pickle('data/KS_train_data.pkl')\n",
    "\n",
    "train_df = train_df.set_index('id', drop = True)\n",
    "\n",
    "test_df = pd.read_pickle('data/KS_test_data.pkl')\n",
    "test_df = test_df.set_index('id', drop = True)\n",
    "\n",
    "X_train = train_df.drop(columns = ['state', 'deadline', 'launched_at', 'converted_pledged_amount', 'spotlight', 'backers_count'])\n",
    "y_train = train_df.state\n",
    "\n",
    "X_test = test_df.drop(columns = ['state', 'deadline', 'launched_at', 'converted_pledged_amount', 'spotlight', 'backers_count'])\n",
    "y_test = test_df.state"
   ]
  },
  {
   "cell_type": "code",
   "execution_count": 4,
   "metadata": {},
   "outputs": [
    {
     "data": {
      "text/html": [
       "<div>\n",
       "<style scoped>\n",
       "    .dataframe tbody tr th:only-of-type {\n",
       "        vertical-align: middle;\n",
       "    }\n",
       "\n",
       "    .dataframe tbody tr th {\n",
       "        vertical-align: top;\n",
       "    }\n",
       "\n",
       "    .dataframe thead th {\n",
       "        text-align: right;\n",
       "    }\n",
       "</style>\n",
       "<table border=\"1\" class=\"dataframe\">\n",
       "  <thead>\n",
       "    <tr style=\"text-align: right;\">\n",
       "      <th></th>\n",
       "      <th>country</th>\n",
       "      <th>currency</th>\n",
       "      <th>disable_communication</th>\n",
       "      <th>goal</th>\n",
       "      <th>is_starrable</th>\n",
       "      <th>staff_pick</th>\n",
       "      <th>category_parent_name</th>\n",
       "      <th>start_month</th>\n",
       "      <th>end_month</th>\n",
       "      <th>blurb_len</th>\n",
       "    </tr>\n",
       "    <tr>\n",
       "      <th>id</th>\n",
       "      <th></th>\n",
       "      <th></th>\n",
       "      <th></th>\n",
       "      <th></th>\n",
       "      <th></th>\n",
       "      <th></th>\n",
       "      <th></th>\n",
       "      <th></th>\n",
       "      <th></th>\n",
       "      <th></th>\n",
       "    </tr>\n",
       "  </thead>\n",
       "  <tbody>\n",
       "    <tr>\n",
       "      <th>203250734</th>\n",
       "      <td>21</td>\n",
       "      <td>13</td>\n",
       "      <td>False</td>\n",
       "      <td>800.0</td>\n",
       "      <td>False</td>\n",
       "      <td>False</td>\n",
       "      <td>5</td>\n",
       "      <td>11</td>\n",
       "      <td>12</td>\n",
       "      <td>129</td>\n",
       "    </tr>\n",
       "    <tr>\n",
       "      <th>351956574</th>\n",
       "      <td>9</td>\n",
       "      <td>5</td>\n",
       "      <td>False</td>\n",
       "      <td>1000.0</td>\n",
       "      <td>False</td>\n",
       "      <td>False</td>\n",
       "      <td>1</td>\n",
       "      <td>1</td>\n",
       "      <td>1</td>\n",
       "      <td>98</td>\n",
       "    </tr>\n",
       "    <tr>\n",
       "      <th>1143575385</th>\n",
       "      <td>21</td>\n",
       "      <td>13</td>\n",
       "      <td>False</td>\n",
       "      <td>1200.0</td>\n",
       "      <td>False</td>\n",
       "      <td>False</td>\n",
       "      <td>12</td>\n",
       "      <td>7</td>\n",
       "      <td>8</td>\n",
       "      <td>117</td>\n",
       "    </tr>\n",
       "    <tr>\n",
       "      <th>1813304426</th>\n",
       "      <td>21</td>\n",
       "      <td>13</td>\n",
       "      <td>False</td>\n",
       "      <td>12000.0</td>\n",
       "      <td>False</td>\n",
       "      <td>False</td>\n",
       "      <td>0</td>\n",
       "      <td>2</td>\n",
       "      <td>3</td>\n",
       "      <td>135</td>\n",
       "    </tr>\n",
       "    <tr>\n",
       "      <th>1697791165</th>\n",
       "      <td>21</td>\n",
       "      <td>13</td>\n",
       "      <td>False</td>\n",
       "      <td>12000.0</td>\n",
       "      <td>False</td>\n",
       "      <td>False</td>\n",
       "      <td>7</td>\n",
       "      <td>7</td>\n",
       "      <td>8</td>\n",
       "      <td>125</td>\n",
       "    </tr>\n",
       "    <tr>\n",
       "      <th>...</th>\n",
       "      <td>...</td>\n",
       "      <td>...</td>\n",
       "      <td>...</td>\n",
       "      <td>...</td>\n",
       "      <td>...</td>\n",
       "      <td>...</td>\n",
       "      <td>...</td>\n",
       "      <td>...</td>\n",
       "      <td>...</td>\n",
       "      <td>...</td>\n",
       "    </tr>\n",
       "    <tr>\n",
       "      <th>974715721</th>\n",
       "      <td>21</td>\n",
       "      <td>13</td>\n",
       "      <td>False</td>\n",
       "      <td>21500.0</td>\n",
       "      <td>False</td>\n",
       "      <td>False</td>\n",
       "      <td>10</td>\n",
       "      <td>4</td>\n",
       "      <td>5</td>\n",
       "      <td>126</td>\n",
       "    </tr>\n",
       "    <tr>\n",
       "      <th>1989183133</th>\n",
       "      <td>21</td>\n",
       "      <td>13</td>\n",
       "      <td>False</td>\n",
       "      <td>2000000.0</td>\n",
       "      <td>False</td>\n",
       "      <td>False</td>\n",
       "      <td>6</td>\n",
       "      <td>9</td>\n",
       "      <td>11</td>\n",
       "      <td>114</td>\n",
       "    </tr>\n",
       "    <tr>\n",
       "      <th>43006751</th>\n",
       "      <td>21</td>\n",
       "      <td>13</td>\n",
       "      <td>False</td>\n",
       "      <td>7200.0</td>\n",
       "      <td>False</td>\n",
       "      <td>True</td>\n",
       "      <td>12</td>\n",
       "      <td>2</td>\n",
       "      <td>3</td>\n",
       "      <td>94</td>\n",
       "    </tr>\n",
       "    <tr>\n",
       "      <th>2132138787</th>\n",
       "      <td>21</td>\n",
       "      <td>13</td>\n",
       "      <td>False</td>\n",
       "      <td>25000.0</td>\n",
       "      <td>False</td>\n",
       "      <td>True</td>\n",
       "      <td>14</td>\n",
       "      <td>8</td>\n",
       "      <td>9</td>\n",
       "      <td>108</td>\n",
       "    </tr>\n",
       "    <tr>\n",
       "      <th>1976843535</th>\n",
       "      <td>21</td>\n",
       "      <td>13</td>\n",
       "      <td>False</td>\n",
       "      <td>3000.0</td>\n",
       "      <td>False</td>\n",
       "      <td>False</td>\n",
       "      <td>2</td>\n",
       "      <td>11</td>\n",
       "      <td>12</td>\n",
       "      <td>32</td>\n",
       "    </tr>\n",
       "  </tbody>\n",
       "</table>\n",
       "<p>34548 rows × 10 columns</p>\n",
       "</div>"
      ],
      "text/plain": [
       "            country  currency  disable_communication       goal  is_starrable  \\\n",
       "id                                                                              \n",
       "203250734        21        13                  False      800.0         False   \n",
       "351956574         9         5                  False     1000.0         False   \n",
       "1143575385       21        13                  False     1200.0         False   \n",
       "1813304426       21        13                  False    12000.0         False   \n",
       "1697791165       21        13                  False    12000.0         False   \n",
       "...             ...       ...                    ...        ...           ...   \n",
       "974715721        21        13                  False    21500.0         False   \n",
       "1989183133       21        13                  False  2000000.0         False   \n",
       "43006751         21        13                  False     7200.0         False   \n",
       "2132138787       21        13                  False    25000.0         False   \n",
       "1976843535       21        13                  False     3000.0         False   \n",
       "\n",
       "            staff_pick  category_parent_name  start_month  end_month  \\\n",
       "id                                                                     \n",
       "203250734        False                     5           11         12   \n",
       "351956574        False                     1            1          1   \n",
       "1143575385       False                    12            7          8   \n",
       "1813304426       False                     0            2          3   \n",
       "1697791165       False                     7            7          8   \n",
       "...                ...                   ...          ...        ...   \n",
       "974715721        False                    10            4          5   \n",
       "1989183133       False                     6            9         11   \n",
       "43006751          True                    12            2          3   \n",
       "2132138787        True                    14            8          9   \n",
       "1976843535       False                     2           11         12   \n",
       "\n",
       "            blurb_len  \n",
       "id                     \n",
       "203250734         129  \n",
       "351956574          98  \n",
       "1143575385        117  \n",
       "1813304426        135  \n",
       "1697791165        125  \n",
       "...               ...  \n",
       "974715721         126  \n",
       "1989183133        114  \n",
       "43006751           94  \n",
       "2132138787        108  \n",
       "1976843535         32  \n",
       "\n",
       "[34548 rows x 10 columns]"
      ]
     },
     "execution_count": 4,
     "metadata": {},
     "output_type": "execute_result"
    }
   ],
   "source": [
    "X_test"
   ]
  },
  {
   "cell_type": "code",
   "execution_count": 4,
   "metadata": {},
   "outputs": [
    {
     "name": "stderr",
     "output_type": "stream",
     "text": [
      "Evaluating RF: 100%|██████████| 12/12 [49:44<00:00, 248.74s/it]       \n"
     ]
    },
    {
     "data": {
      "text/plain": [
       "'Done'"
      ]
     },
     "execution_count": 4,
     "metadata": {},
     "output_type": "execute_result"
    }
   ],
   "source": [
    "models = {'Log': LogisticRegression(), 'Knn': KNeighborsClassifier(), 'DT': DecisionTreeClassifier(random_state = 10), \n",
    "          'Gaussian': GaussianNB(), 'Multinomail': MultinomialNB(), 'LDA': LinearDiscriminantAnalysis(),\n",
    "          'LinearSVC': LinearSVC(max_iter = 1250, random_state = 10), 'SDGSVC': SGDClassifier(random_state = 10),  \n",
    "          'ADA': AdaBoostClassifier(random_state = 10), 'Bagging': BaggingClassifier(random_state = 10), \n",
    "          'Ridge': RidgeClassifier(random_state = 10), 'RF': RandomForestClassifier(random_state = 10)}\n",
    "\n",
    "# #create stacked model\n",
    "# new_models = stacked_model(models)\n",
    "\n",
    "# # getting results and model\n",
    "result_dict = test_models(X_train, y_train, models, n_jobs = 2)\n",
    "\n",
    "save_cv_results(result_dict, 'models/VanillaResults_1.p')"
   ]
  },
  {
   "cell_type": "code",
   "execution_count": 5,
   "metadata": {},
   "outputs": [
    {
     "data": {
      "image/png": "[encoded data removed]",
      "text/plain": [
       "<Figure size 936x576 with 1 Axes>"
      ]
     },
     "metadata": {
      "needs_background": "light"
     },
     "output_type": "display_data"
    }
   ],
   "source": [
    "results = [i[1] for i in result_dict.items()]\n",
    "model_names = [i for i in result_dict.keys()]\n",
    "plot_model_results(results, model_names, 'models/VanillaResults_1', figure_title = 'Accuracy for Each Vanilla Model (version 1)', \n",
    "                   figsize = (13, 8))"
   ]
  },
  {
   "cell_type": "code",
   "execution_count": 6,
   "metadata": {},
   "outputs": [
    {
     "name": "stderr",
     "output_type": "stream",
     "text": [
      "Evaluating RF: 100%|██████████| 7/7 [26:04<00:00, 223.50s/it]        \n"
     ]
    },
    {
     "data": {
      "text/plain": [
       "'Done'"
      ]
     },
     "execution_count": 6,
     "metadata": {},
     "output_type": "execute_result"
    }
   ],
   "source": [
    "models = {'Knn': KNeighborsClassifier(), 'DT': DecisionTreeClassifier(random_state = 10), \n",
    "          'Multinomail': MultinomialNB(), 'LDA': LinearDiscriminantAnalysis(),\n",
    "          'ADA': AdaBoostClassifier(random_state = 10), 'Bagging': BaggingClassifier(random_state = 10), \n",
    "          'RF': RandomForestClassifier(random_state = 10)}\n",
    "\n",
    "#create stacked model\n",
    "# new_models = stacked_model(models)\n",
    "\n",
    "# getting results and model\n",
    "result_dict = test_models(X_train, y_train, models, n_jobs = 2)\n",
    "\n",
    "save_cv_results(result_dict, 'models/VanillaResults_2.p')"
   ]
  },
  {
   "cell_type": "code",
   "execution_count": 7,
   "metadata": {},
   "outputs": [
    {
     "data": {
      "image/png": "[encoded data removed]",
      "text/plain": [
       "<Figure size 936x576 with 1 Axes>"
      ]
     },
     "metadata": {
      "needs_background": "light"
     },
     "output_type": "display_data"
    }
   ],
   "source": [
    "results = [i[1] for i in result_dict.items()]\n",
    "model_names = [i for i in result_dict.keys()]\n",
    "plot_model_results(results, model_names, 'models/VanillaResults_2', figure_title = 'Accuracy for Each Vanilla Model (version 1)', \n",
    "                   figsize = (13, 8))"
   ]
  },
  {
   "cell_type": "code",
   "execution_count": 6,
   "metadata": {},
   "outputs": [],
   "source": []
  },
  {
   "cell_type": "code",
   "execution_count": 7,
   "metadata": {},
   "outputs": [
    {
     "name": "stderr",
     "output_type": "stream",
     "text": [
      "\n",
      "  0%|          | 0/5 [00:00<?, ?it/s]\n",
      "Evaluating ADA:   0%|          | 0/5 [00:00<?, ?it/s]\n",
      "Evaluating ADA:  20%|██        | 1/5 [04:58<19:54, 298.62s/it]\n",
      "Evaluating BAGGING:  20%|██        | 1/5 [04:58<19:54, 298.62s/it]\n",
      "Evaluating BAGGING:  40%|████      | 2/5 [07:32<12:45, 255.27s/it]\n",
      "Evaluating RF:  40%|████      | 2/5 [07:32<12:45, 255.27s/it]     \n",
      "Evaluating RF:  60%|██████    | 3/5 [19:10<12:56, 388.07s/it]\n",
      "Evaluating GRADIENTBOOST:  60%|██████    | 3/5 [19:10<12:56, 388.07s/it]\n",
      "Evaluating GRADIENTBOOST:  80%|████████  | 4/5 [27:14<06:56, 416.77s/it]\n",
      "Evaluating STACKED:  80%|████████  | 4/5 [27:14<06:56, 416.77s/it]      \n",
      "Evaluating STACKED: 100%|██████████| 5/5 [1:49:04<00:00, 1309.00s/it]\n"
     ]
    },
    {
     "data": {
      "text/plain": [
       "'Done'"
      ]
     },
     "execution_count": 7,
     "metadata": {},
     "output_type": "execute_result"
    }
   ],
   "source": [
    "models = {'ADA': AdaBoostClassifier(random_state = 10), 'Bagging': BaggingClassifier(random_state = 10), \n",
    "          'RF': RandomForestClassifier(random_state = 10), 'GradientBoost' : GradientBoostingClassifier(random_state = 10)}\n",
    "\n",
    "#create stacked model\n",
    "new_models = stacked_model(models)\n",
    "\n",
    "# getting results and model\n",
    "result_dict = test_models(X_train, y_train, new_models, n_jobs = 2)\n",
    "\n",
    "save_cv_results(result_dict, 'models/VanillaResults_4.p')"
   ]
  },
  {
   "cell_type": "code",
   "execution_count": 9,
   "metadata": {},
   "outputs": [
    {
     "data": {
      "image/png": "[encoded data removed]",
      "text/plain": [
       "<Figure size 936x576 with 1 Axes>"
      ]
     },
     "metadata": {
      "needs_background": "light"
     },
     "output_type": "display_data"
    }
   ],
   "source": [
    "results = [i[1] for i in result_dict.items()]\n",
    "model_names = [i for i in result_dict.keys()]\n",
    "plot_model_results(results, model_names, 'models/VanillaResults_4', figure_title = 'Precision for Each Vanilla Model (version 1)', \n",
    "                   figsize = (13, 8))"
   ]
  },
  {
   "cell_type": "code",
   "execution_count": 10,
   "metadata": {},
   "outputs": [],
   "source": [
    "#These four classifiers will be tuned to be more accurate :)"
   ]
  },
  {
   "cell_type": "code",
   "execution_count": null,
   "metadata": {},
   "outputs": [],
   "source": []
  }
 ],
 "metadata": {
  "kernelspec": {
   "display_name": "KS_Env",
   "language": "python",
   "name": "ks_env"
  },
  "language_info": {
   "codemirror_mode": {
    "name": "ipython",
    "version": 3
   },
   "file_extension": ".py",
   "mimetype": "text/x-python",
   "name": "python",
   "nbconvert_exporter": "python",
   "pygments_lexer": "ipython3",
   "version": "3.6.9"
  }
 },
 "nbformat": 4,
 "nbformat_minor": 4
}
