{
 "cells": [
  {
   "cell_type": "markdown",
   "metadata": {},
   "source": [
    "# Tuning Models with Cloud Computing\n",
    "\n",
    "This notebook goes over the process I went through for tuning the models I settled on during my [Cross Validation Process](Cross_Validation.ipynb)\n",
    "\n",
    "The following models were tuned: \n",
    "   - GradientBoostingClassifier\n",
    "   - AdaBoostClassifier\n",
    "   - RandomForestClassifier\n",
    "   - BaggingClassifier\n",
    "\n",
    "I went through the same process for each classifier: \n",
    "- Select a wide variety of parameters to test\n",
    "- If the parameter selected as best was on the higher end, select more higher end options to test. If it was on the lower end, more lower end options were added.\n",
    "- Repeat until model performance no longer changes when parameters are altered, and the gridsearch continues to select the same ones as \"best\"\n",
    "\n",
    "Model performance is evaluated on precision, with the goal of reducing the number of false positives. \n",
    "\n",
    "<span style=\"color: red\">**Warning:** </span>This is an extremely heavy notebook to run. I used google cloud computing, with 8 cpus. Attempting to run this on a personal computer that has, for example, 2 cpus will take an extremely long time. "
   ]
  },
  {
   "cell_type": "markdown",
   "metadata": {},
   "source": [
    "## Load Data, Packages, & Functions"
   ]
  },
  {
   "cell_type": "code",
   "execution_count": 1,
   "metadata": {},
   "outputs": [],
   "source": [
    "from src.modeling import *\n",
    "\n",
    "%reload_ext autoreload\n",
    "%autoreload 2\n",
    "\n",
    "X_train, y_train, X_test, y_test = load_train_test_data()"
   ]
  },
  {
   "cell_type": "markdown",
   "metadata": {},
   "source": [
    "## Tuning RandomForestClassifier"
   ]
  },
  {
   "cell_type": "markdown",
   "metadata": {},
   "source": [
    "Vanilla Model:"
   ]
  },
  {
   "cell_type": "code",
   "execution_count": 7,
   "metadata": {},
   "outputs": [
    {
     "name": "stdout",
     "output_type": "stream",
     "text": [
      "RandomForest Vanilla Model\n",
      "Train score: 0.988841611670719\n",
      "      \n",
      "Test score: 0.6935946047642478\n",
      "\n"
     ]
    }
   ],
   "source": [
    "RF_vanilla = RandomForestClassifier(random_state=6)\n",
    "\n",
    "RF_vanilla.fit(X_train, y_train)\n",
    "\n",
    "print(f\"\"\"RandomForest Vanilla Model\n",
    "Train score: {RF_vanilla.score(X_train, y_train)}\n",
    "      \n",
    "Test score: {RF_vanilla.score(X_test, y_test)}\n",
    "\"\"\")"
   ]
  },
  {
   "cell_type": "markdown",
   "metadata": {},
   "source": [
    "### 1st RF Gridsearch"
   ]
  },
  {
   "cell_type": "code",
   "execution_count": 23,
   "metadata": {},
   "outputs": [
    {
     "name": "stdout",
     "output_type": "stream",
     "text": [
      "Fitting 5 folds for each of 192 candidates, totalling 960 fits\n"
     ]
    },
    {
     "name": "stderr",
     "output_type": "stream",
     "text": [
      "[Parallel(n_jobs=-1)]: Using backend LokyBackend with 8 concurrent workers.\n",
      "[Parallel(n_jobs=-1)]: Done  34 tasks      | elapsed:    5.8s\n",
      "[Parallel(n_jobs=-1)]: Done 184 tasks      | elapsed:   27.0s\n",
      "[Parallel(n_jobs=-1)]: Done 434 tasks      | elapsed:  1.1min\n",
      "[Parallel(n_jobs=-1)]: Done 784 tasks      | elapsed:  2.8min\n",
      "[Parallel(n_jobs=-1)]: Done 960 out of 960 | elapsed:  4.0min finished\n"
     ]
    },
    {
     "name": "stdout",
     "output_type": "stream",
     "text": [
      "       Results\n",
      "~~~~~~~~~~~~~~~~~~~~~\n",
      "\n",
      "Train Score: 0.80\n",
      "---\n",
      "Test Score: 0.72\n",
      "\n",
      "Best Parameters:\n",
      "{'bootstrap': False, 'criterion': 'entropy', 'max_depth': 30, 'max_features': 'auto', 'max_samples': None, 'min_samples_leaf': 10, 'min_samples_split': 2, 'n_estimators': 10, 'random_state': 6}\n",
      "\n"
     ]
    }
   ],
   "source": [
    "RF_Params_0 = {\n",
    "    'n_estimators' : [10],\n",
    "    'criterion' : ['gini' , 'entropy'],\n",
    "    'max_depth' : [10, 30],\n",
    "    'min_samples_split' : [2, 10],\n",
    "    'min_samples_leaf' : [1, 10],\n",
    "    'max_features' : ['auto', 'sqrt', 'log2'],\n",
    "    'bootstrap' : [True, False], \n",
    "    'max_samples' : [None, 100],\n",
    "    'random_state' : [6]\n",
    "}\n",
    "\n",
    "RF_grid = run_gridsearch(RandomForestClassifier(), \n",
    "                         X_train, y_train,\n",
    "                         X_test, y_test,\n",
    "                         RF_Params_0, verbose = 1, num_jobs = -1)\n",
    "\n",
    "pickle.dump(RF_grid, open('models/RandomForest_Grid_0.p', 'wb'))"
   ]
  },
  {
   "cell_type": "markdown",
   "metadata": {},
   "source": [
    "### 2nd RF Gridsearch"
   ]
  },
  {
   "cell_type": "code",
   "execution_count": 24,
   "metadata": {},
   "outputs": [
    {
     "name": "stdout",
     "output_type": "stream",
     "text": [
      "Fitting 5 folds for each of 32 candidates, totalling 160 fits\n"
     ]
    },
    {
     "name": "stderr",
     "output_type": "stream",
     "text": [
      "[Parallel(n_jobs=-1)]: Using backend LokyBackend with 8 concurrent workers.\n",
      "[Parallel(n_jobs=-1)]: Done  34 tasks      | elapsed:   11.0s\n",
      "[Parallel(n_jobs=-1)]: Done 160 out of 160 | elapsed:   47.5s finished\n"
     ]
    },
    {
     "name": "stdout",
     "output_type": "stream",
     "text": [
      "       Results\n",
      "~~~~~~~~~~~~~~~~~~~~~\n",
      "\n",
      "Train Score: 0.80\n",
      "---\n",
      "Test Score: 0.72\n",
      "\n",
      "Best Parameters:\n",
      "{'bootstrap': False, 'criterion': 'entropy', 'max_depth': 30, 'max_features': 'auto', 'max_samples': None, 'min_samples_leaf': 10, 'min_samples_split': 2, 'n_estimators': 10, 'random_state': 6}\n",
      "\n"
     ]
    }
   ],
   "source": [
    "RF_Params_1 = {\n",
    "    'n_estimators' : [5, 10],\n",
    "    'max_depth' : [30, 50],\n",
    "    'min_samples_split' : [2, 6],\n",
    "    'min_samples_leaf' : [10, 20],\n",
    "    'max_samples' : [None, 300],\n",
    "    \n",
    "    'max_features' : ['auto'],\n",
    "    'bootstrap' : [False], \n",
    "    'criterion' : ['entropy'],\n",
    "    'random_state' : [6]\n",
    "}\n",
    "\n",
    "RF_grid = run_gridsearch(RandomForestClassifier(), \n",
    "                         X_train, y_train,\n",
    "                         X_test, y_test,\n",
    "                         RF_Params_1, verbose = 1, num_jobs = -1)\n",
    "\n",
    "pickle.dump(RF_grid, open('models/RandomForest_Grid_1.p', 'wb'))"
   ]
  },
  {
   "cell_type": "markdown",
   "metadata": {},
   "source": [
    "### 3rd RF Gridsearch"
   ]
  },
  {
   "cell_type": "code",
   "execution_count": 29,
   "metadata": {},
   "outputs": [
    {
     "name": "stdout",
     "output_type": "stream",
     "text": [
      "Fitting 5 folds for each of 32 candidates, totalling 160 fits\n"
     ]
    },
    {
     "name": "stderr",
     "output_type": "stream",
     "text": [
      "[Parallel(n_jobs=-1)]: Using backend LokyBackend with 8 concurrent workers.\n",
      "[Parallel(n_jobs=-1)]: Done  34 tasks      | elapsed:   15.7s\n",
      "[Parallel(n_jobs=-1)]: Done 160 out of 160 | elapsed:  1.0min finished\n"
     ]
    },
    {
     "name": "stdout",
     "output_type": "stream",
     "text": [
      "       Results\n",
      "~~~~~~~~~~~~~~~~~~~~~\n",
      "\n",
      "Train Score: 0.78\n",
      "---\n",
      "Test Score: 0.72\n",
      "\n",
      "Best Parameters:\n",
      "{'bootstrap': False, 'criterion': 'entropy', 'max_depth': 30, 'max_features': 'auto', 'max_samples': None, 'min_samples_leaf': 15, 'min_samples_split': 2, 'n_estimators': 10, 'random_state': 6}\n",
      "\n"
     ]
    }
   ],
   "source": [
    "RF_Params_2 = {\n",
    "    'n_estimators' : [8, 10],\n",
    "    'max_depth' : [30, 40],\n",
    "    'min_samples_split' : [2, 4],\n",
    "    'min_samples_leaf' : [10, 15],\n",
    "    'max_samples' : [None, 1000],\n",
    "    \n",
    "    'max_features' : ['auto'],\n",
    "    'bootstrap' : [False], \n",
    "    'criterion' : ['entropy'],\n",
    "    'random_state' : [6]\n",
    "}\n",
    "\n",
    "RF_grid = run_gridsearch(RandomForestClassifier(), \n",
    "                         X_train, y_train,\n",
    "                         X_test, y_test,\n",
    "                         RF_Params_2, verbose = 1, num_jobs = -1)\n",
    "\n",
    "pickle.dump(RF_grid, open('models/RandomForest_Grid_2.p', 'wb'))"
   ]
  },
  {
   "cell_type": "markdown",
   "metadata": {},
   "source": [
    "### 4th RF Gridsearch"
   ]
  },
  {
   "cell_type": "code",
   "execution_count": 30,
   "metadata": {},
   "outputs": [
    {
     "name": "stdout",
     "output_type": "stream",
     "text": [
      "Fitting 5 folds for each of 24 candidates, totalling 120 fits\n"
     ]
    },
    {
     "name": "stderr",
     "output_type": "stream",
     "text": [
      "[Parallel(n_jobs=-1)]: Using backend LokyBackend with 8 concurrent workers.\n",
      "[Parallel(n_jobs=-1)]: Done  34 tasks      | elapsed:   11.1s\n",
      "[Parallel(n_jobs=-1)]: Done 120 out of 120 | elapsed:   31.9s finished\n"
     ]
    },
    {
     "name": "stdout",
     "output_type": "stream",
     "text": [
      "       Results\n",
      "~~~~~~~~~~~~~~~~~~~~~\n",
      "\n",
      "Train Score: 0.78\n",
      "---\n",
      "Test Score: 0.72\n",
      "\n",
      "Best Parameters:\n",
      "{'bootstrap': False, 'criterion': 'entropy', 'max_depth': 30, 'max_features': 'auto', 'max_leaf_nodes': None, 'max_samples': None, 'min_samples_leaf': 15, 'min_samples_split': 2, 'n_estimators': 10, 'random_state': 6}\n",
      "\n"
     ]
    }
   ],
   "source": [
    "RF_Params_3 = {\n",
    "    'max_samples' : [None, 5000],\n",
    "    \n",
    "    'n_estimators' : [10],\n",
    "    'criterion' : ['entropy', 'gini'],\n",
    "    'max_depth' : [30],\n",
    "    \n",
    "    'min_samples_split' : [2],\n",
    "    'min_samples_leaf' : [15, 18],\n",
    "    'max_features' : ['auto'],\n",
    "    'max_leaf_nodes' : [None, 50, 100],\n",
    "    'bootstrap' : [False], \n",
    "    'random_state' : [6]\n",
    "}\n",
    "\n",
    "RF_grid = run_gridsearch(RandomForestClassifier(), \n",
    "                         X_train, y_train,\n",
    "                         X_test, y_test,\n",
    "                         RF_Params_3, verbose = 1, num_jobs = -1)\n",
    "\n",
    "pickle.dump(RF_grid, open('models/RandomForest_Grid_3.p', 'wb'))"
   ]
  },
  {
   "cell_type": "markdown",
   "metadata": {},
   "source": [
    "### 5th RF Gridsearch (FINAL!) "
   ]
  },
  {
   "cell_type": "code",
   "execution_count": 33,
   "metadata": {},
   "outputs": [
    {
     "name": "stdout",
     "output_type": "stream",
     "text": [
      "Fitting 5 folds for each of 4 candidates, totalling 20 fits\n"
     ]
    },
    {
     "name": "stderr",
     "output_type": "stream",
     "text": [
      "[Parallel(n_jobs=-1)]: Using backend LokyBackend with 8 concurrent workers.\n",
      "[Parallel(n_jobs=-1)]: Done  20 out of  20 | elapsed:    7.7s finished\n"
     ]
    },
    {
     "name": "stdout",
     "output_type": "stream",
     "text": [
      "       Results\n",
      "~~~~~~~~~~~~~~~~~~~~~\n",
      "\n",
      "Train Score: 0.78\n",
      "---\n",
      "Test Score: 0.72\n",
      "\n",
      "Best Parameters:\n",
      "{'bootstrap': False, 'criterion': 'entropy', 'max_depth': 30, 'max_features': 'auto', 'max_leaf_nodes': None, 'max_samples': None, 'min_samples_leaf': 15, 'min_samples_split': 2, 'n_estimators': 10, 'random_state': 6}\n",
      "\n"
     ]
    }
   ],
   "source": [
    "RF_Params_4 = {\n",
    "    'max_samples' : [None, 10000],\n",
    "    'max_leaf_nodes' : [None, 1000],\n",
    "    \n",
    "    'n_estimators' : [10],\n",
    "    'criterion' : ['entropy'],\n",
    "    'max_depth' : [30],\n",
    "    'min_samples_split' : [2],\n",
    "    'min_samples_leaf' : [15],\n",
    "    'max_features' : ['auto'],\n",
    "    'bootstrap' : [False], \n",
    "    'random_state' : [6]\n",
    "}\n",
    "\n",
    "RF_grid = run_gridsearch(RandomForestClassifier(), \n",
    "                         X_train, y_train,\n",
    "                         X_test, y_test,\n",
    "                         RF_Params_4, verbose = 1, num_jobs = -1)\n",
    "\n",
    "pickle.dump(RF_grid, open('models/RandomForest_Grid_4.p', 'wb'))"
   ]
  },
  {
   "cell_type": "markdown",
   "metadata": {},
   "source": [
    "## Tuning GradientBoostingClassifier"
   ]
  },
  {
   "cell_type": "markdown",
   "metadata": {},
   "source": [
    "Vanilla Model:"
   ]
  },
  {
   "cell_type": "code",
   "execution_count": 3,
   "metadata": {},
   "outputs": [
    {
     "name": "stdout",
     "output_type": "stream",
     "text": [
      "GradientBoosting Vanilla Model\n",
      "Train score: 0.7182398402222994\n",
      "      \n",
      "Test score: 0.7205707835248487\n",
      "\n"
     ]
    }
   ],
   "source": [
    "GB_vanilla = GradientBoostingClassifier(random_state=6)\n",
    "GB_vanilla.fit(X_train, y_train)\n",
    "\n",
    "print(f\"\"\"GradientBoosting Vanilla Model\n",
    "Train score: {GB_vanilla.score(X_train, y_train)}\n",
    "      \n",
    "Test score: {GB_vanilla.score(X_test, y_test)}\n",
    "\"\"\")"
   ]
  },
  {
   "cell_type": "markdown",
   "metadata": {},
   "source": [
    "### 1st GB Gridsearch"
   ]
  },
  {
   "cell_type": "code",
   "execution_count": 39,
   "metadata": {},
   "outputs": [
    {
     "name": "stdout",
     "output_type": "stream",
     "text": [
      "Fitting 5 folds for each of 64 candidates, totalling 320 fits\n"
     ]
    },
    {
     "name": "stderr",
     "output_type": "stream",
     "text": [
      "[Parallel(n_jobs=-1)]: Using backend LokyBackend with 8 concurrent workers.\n",
      "[Parallel(n_jobs=-1)]: Done  34 tasks      | elapsed:    8.8s\n",
      "[Parallel(n_jobs=-1)]: Done 184 tasks      | elapsed:  1.0min\n",
      "[Parallel(n_jobs=-1)]: Done 320 out of 320 | elapsed:  1.9min finished\n"
     ]
    },
    {
     "name": "stdout",
     "output_type": "stream",
     "text": [
      "       Results\n",
      "~~~~~~~~~~~~~~~~~~~~~\n",
      "\n",
      "Train Score: 0.73\n",
      "---\n",
      "Test Score: 0.73\n",
      "\n",
      "Best Parameters:\n",
      "{'criterion': 'friedman_mse', 'learning_rate': 1, 'loss': 'deviance', 'max_depth': 3, 'min_samples_split': 10, 'n_estimators': 30, 'random_state': 6, 'subsample': 1}\n",
      "\n"
     ]
    }
   ],
   "source": [
    "GB_Params_0 = {\n",
    "    'loss' : ['deviance', 'exponential'],\n",
    "    'learning_rate' : [1, 0.5],\n",
    "    'n_estimators' : [20, 30], \n",
    "    'subsample' : [0.5, 1],\n",
    "    'criterion' : ['friedman_mse'],\n",
    "    'min_samples_split' : [2, 10],\n",
    "    'max_depth' : [1, 3],\n",
    "    'random_state' : [6]\n",
    "}\n",
    "\n",
    "GB_Grid = run_gridsearch(GradientBoostingClassifier(), \n",
    "                         X_train, y_train,\n",
    "                         X_test, y_test,\n",
    "                         GB_Params_0, verbose = 1, num_jobs = -1)\n",
    "\n",
    "pickle.dump(GB_Grid, open('models/GradientBoost_Grid_0.p', 'wb'))"
   ]
  },
  {
   "cell_type": "markdown",
   "metadata": {},
   "source": [
    "### 2nd GB Gridsearch"
   ]
  },
  {
   "cell_type": "code",
   "execution_count": 46,
   "metadata": {},
   "outputs": [
    {
     "name": "stdout",
     "output_type": "stream",
     "text": [
      "Fitting 5 folds for each of 32 candidates, totalling 160 fits\n"
     ]
    },
    {
     "name": "stderr",
     "output_type": "stream",
     "text": [
      "[Parallel(n_jobs=-1)]: Using backend LokyBackend with 8 concurrent workers.\n",
      "[Parallel(n_jobs=-1)]: Done  34 tasks      | elapsed:   15.5s\n",
      "[Parallel(n_jobs=-1)]: Done 160 out of 160 | elapsed:  2.6min finished\n"
     ]
    },
    {
     "name": "stdout",
     "output_type": "stream",
     "text": [
      "       Results\n",
      "~~~~~~~~~~~~~~~~~~~~~\n",
      "\n",
      "Train Score: 0.74\n",
      "---\n",
      "Test Score: 0.73\n",
      "\n",
      "Best Parameters:\n",
      "{'criterion': 'friedman_mse', 'learning_rate': 1, 'loss': 'deviance', 'max_depth': 3, 'min_samples_split': 15, 'n_estimators': 50, 'random_state': 6, 'subsample': 1}\n",
      "\n"
     ]
    }
   ],
   "source": [
    "GB_Params_1 = {\n",
    "    'loss' : ['deviance'],\n",
    "    'learning_rate' : [1, 1.5],\n",
    "    'n_estimators' : [30, 50], \n",
    "    'subsample' : [1, 1.5],\n",
    "    'criterion' : ['friedman_mse'],\n",
    "    'min_samples_split' : [10, 15],\n",
    "    'max_depth' : [3, 10],\n",
    "    'random_state' : [6]\n",
    "}\n",
    "\n",
    "GB_Grid = run_gridsearch(GradientBoostingClassifier(), \n",
    "                         X_train, y_train,\n",
    "                         X_test, y_test,\n",
    "                         GB_Params_1, verbose = 1, num_jobs = -1)\n",
    "\n",
    "pickle.dump(GB_Grid, open('models/GradientBoost_Grid_1.p', 'wb'))"
   ]
  },
  {
   "cell_type": "markdown",
   "metadata": {},
   "source": [
    "### 3rd GB Gridsearch"
   ]
  },
  {
   "cell_type": "code",
   "execution_count": 47,
   "metadata": {},
   "outputs": [
    {
     "name": "stdout",
     "output_type": "stream",
     "text": [
      "Fitting 5 folds for each of 8 candidates, totalling 40 fits\n"
     ]
    },
    {
     "name": "stderr",
     "output_type": "stream",
     "text": [
      "[Parallel(n_jobs=-1)]: Using backend LokyBackend with 8 concurrent workers.\n",
      "[Parallel(n_jobs=-1)]: Done  40 out of  40 | elapsed:  1.4min finished\n"
     ]
    },
    {
     "name": "stdout",
     "output_type": "stream",
     "text": [
      "       Results\n",
      "~~~~~~~~~~~~~~~~~~~~~\n",
      "\n",
      "Train Score: 0.74\n",
      "---\n",
      "Test Score: 0.73\n",
      "\n",
      "Best Parameters:\n",
      "{'criterion': 'friedman_mse', 'learning_rate': 1, 'loss': 'deviance', 'max_depth': 3, 'min_samples_split': 15, 'n_estimators': 100, 'random_state': 6, 'subsample': 1}\n",
      "\n"
     ]
    }
   ],
   "source": [
    "GB_Params_2 = {\n",
    "    'loss' : ['deviance'],\n",
    "    'learning_rate' : [1],\n",
    "    'n_estimators' : [50, 100], \n",
    "    'subsample' : [1],\n",
    "    'criterion' : ['friedman_mse'],\n",
    "    'min_samples_split' : [15, 20],\n",
    "    'max_depth' : [3, 5],\n",
    "    'random_state' : [6]\n",
    "}\n",
    "\n",
    "GB_Grid = run_gridsearch(GradientBoostingClassifier(), \n",
    "                         X_train, y_train,\n",
    "                         X_test, y_test,\n",
    "                         GB_Params_2, verbose = 1, num_jobs = -1)\n",
    "\n",
    "pickle.dump(GB_Grid, open('models/GradientBoost_Grid_2.p', 'wb'))"
   ]
  },
  {
   "cell_type": "markdown",
   "metadata": {},
   "source": [
    "### 4th GB Gridsearch"
   ]
  },
  {
   "cell_type": "code",
   "execution_count": 49,
   "metadata": {},
   "outputs": [
    {
     "name": "stdout",
     "output_type": "stream",
     "text": [
      "Fitting 5 folds for each of 8 candidates, totalling 40 fits\n"
     ]
    },
    {
     "name": "stderr",
     "output_type": "stream",
     "text": [
      "[Parallel(n_jobs=-1)]: Using backend LokyBackend with 8 concurrent workers.\n",
      "[Parallel(n_jobs=-1)]: Done  40 out of  40 | elapsed:  5.8min finished\n"
     ]
    },
    {
     "name": "stdout",
     "output_type": "stream",
     "text": [
      "       Results\n",
      "~~~~~~~~~~~~~~~~~~~~~\n",
      "\n",
      "Train Score: 0.74\n",
      "---\n",
      "Test Score: 0.73\n",
      "\n",
      "Best Parameters:\n",
      "{'criterion': 'friedman_mse', 'learning_rate': 1, 'loss': 'deviance', 'max_depth': 3, 'min_samples_split': 15, 'n_estimators': 100, 'random_state': 6, 'subsample': 1}\n",
      "\n"
     ]
    }
   ],
   "source": [
    "GB_Params_3 = {\n",
    "    'loss' : ['deviance'],\n",
    "    'learning_rate' : [1],\n",
    "    'n_estimators' : [100, 500], \n",
    "    'subsample' : [1],\n",
    "    'criterion' : ['friedman_mse'],\n",
    "    'min_samples_split' : [15, 18],\n",
    "    'max_depth' : [3, 5],\n",
    "    'random_state' : [6]\n",
    "}\n",
    "\n",
    "GB_Grid = run_gridsearch(GradientBoostingClassifier(), \n",
    "                         X_train, y_train,\n",
    "                         X_test, y_test,\n",
    "                         GB_Params_3, verbose = 1, num_jobs = -1)\n",
    "\n",
    "pickle.dump(GB_Grid, open('models/GradientBoost_Grid_3.p', 'wb'))"
   ]
  },
  {
   "cell_type": "markdown",
   "metadata": {},
   "source": [
    "### 5th GB Gridsearch"
   ]
  },
  {
   "cell_type": "code",
   "execution_count": 50,
   "metadata": {},
   "outputs": [
    {
     "name": "stdout",
     "output_type": "stream",
     "text": [
      "Fitting 5 folds for each of 12 candidates, totalling 60 fits\n"
     ]
    },
    {
     "name": "stderr",
     "output_type": "stream",
     "text": [
      "[Parallel(n_jobs=-1)]: Using backend LokyBackend with 8 concurrent workers.\n",
      "[Parallel(n_jobs=-1)]: Done  34 tasks      | elapsed:  2.5min\n",
      "[Parallel(n_jobs=-1)]: Done  60 out of  60 | elapsed:  5.6min finished\n"
     ]
    },
    {
     "name": "stdout",
     "output_type": "stream",
     "text": [
      "       Results\n",
      "~~~~~~~~~~~~~~~~~~~~~\n",
      "\n",
      "Train Score: 0.74\n",
      "---\n",
      "Test Score: 0.73\n",
      "\n",
      "Best Parameters:\n",
      "{'criterion': 'friedman_mse', 'learning_rate': 1, 'loss': 'deviance', 'max_depth': 3, 'min_samples_split': 15, 'n_estimators': 100, 'random_state': 6, 'subsample': 1}\n",
      "\n"
     ]
    }
   ],
   "source": [
    "GB_Params_4 = {\n",
    "    'loss' : ['deviance'],\n",
    "    'learning_rate' : [1],\n",
    "    'n_estimators' : [100, 200, 300], \n",
    "    'subsample' : [1],\n",
    "    'criterion' : ['friedman_mse'],\n",
    "    'min_samples_split' : [15, 18],\n",
    "    'max_depth' : [3, 5],\n",
    "    'random_state' : [6]\n",
    "}\n",
    "\n",
    "GB_Grid = run_gridsearch(GradientBoostingClassifier(), \n",
    "                         X_train, y_train,\n",
    "                         X_test, y_test,\n",
    "                         GB_Params_4, verbose = 1, num_jobs = -1)\n",
    "\n",
    "pickle.dump(GB_Grid, open('models/GradientBoost_Grid_4.p', 'wb'))"
   ]
  },
  {
   "cell_type": "markdown",
   "metadata": {},
   "source": [
    "### 6th GB Gridsearch (FINAL!) "
   ]
  },
  {
   "cell_type": "code",
   "execution_count": 51,
   "metadata": {},
   "outputs": [
    {
     "name": "stdout",
     "output_type": "stream",
     "text": [
      "Fitting 5 folds for each of 6 candidates, totalling 30 fits\n"
     ]
    },
    {
     "name": "stderr",
     "output_type": "stream",
     "text": [
      "[Parallel(n_jobs=-1)]: Using backend LokyBackend with 8 concurrent workers.\n",
      "[Parallel(n_jobs=-1)]: Done  30 out of  30 | elapsed:  1.8min finished\n"
     ]
    },
    {
     "name": "stdout",
     "output_type": "stream",
     "text": [
      "       Results\n",
      "~~~~~~~~~~~~~~~~~~~~~\n",
      "\n",
      "Train Score: 0.74\n",
      "---\n",
      "Test Score: 0.73\n",
      "\n",
      "Best Parameters:\n",
      "{'criterion': 'friedman_mse', 'learning_rate': 1, 'loss': 'deviance', 'max_depth': 3, 'min_samples_split': 15, 'n_estimators': 100, 'random_state': 6, 'subsample': 1}\n",
      "\n"
     ]
    }
   ],
   "source": [
    "GB_Params_5 = {\n",
    "    'loss' : ['deviance'],\n",
    "    'learning_rate' : [1],\n",
    "    'n_estimators' : [100, 125, 150], \n",
    "    'subsample' : [1],\n",
    "    'criterion' : ['friedman_mse'],\n",
    "    'min_samples_split' : [15],\n",
    "    'max_depth' : [3, 5],\n",
    "    'random_state' : [6]\n",
    "}\n",
    "\n",
    "GB_Grid = run_gridsearch(GradientBoostingClassifier(), \n",
    "                         X_train, y_train,\n",
    "                         X_test, y_test,\n",
    "                         GB_Params_5, verbose = 1, num_jobs = -1)\n",
    "\n",
    "pickle.dump(GB_Grid, open('models/GradientBoost_Grid_5.p', 'wb'))"
   ]
  },
  {
   "cell_type": "markdown",
   "metadata": {},
   "source": [
    "## Tuning BaggingClassifier"
   ]
  },
  {
   "cell_type": "markdown",
   "metadata": {},
   "source": [
    "Vanilla Model:"
   ]
  },
  {
   "cell_type": "code",
   "execution_count": 5,
   "metadata": {},
   "outputs": [
    {
     "name": "stdout",
     "output_type": "stream",
     "text": [
      "Bagging Vanilla Model\n",
      "Train score: 0.9724586083130716\n",
      "      \n",
      "Test score: 0.66971547656951\n",
      "\n"
     ]
    }
   ],
   "source": [
    "Bag_vanilla = BaggingClassifier(random_state=6)\n",
    "\n",
    "Bag_vanilla.fit(X_train, y_train)\n",
    "\n",
    "print(f\"\"\"Bagging Vanilla Model\n",
    "Train score: {Bag_vanilla.score(X_train, y_train)}\n",
    "      \n",
    "Test score: {Bag_vanilla.score(X_test, y_test)}\n",
    "\"\"\")"
   ]
  },
  {
   "cell_type": "markdown",
   "metadata": {},
   "source": [
    "### 1st Bag GridSearch"
   ]
  },
  {
   "cell_type": "code",
   "execution_count": 87,
   "metadata": {},
   "outputs": [
    {
     "name": "stdout",
     "output_type": "stream",
     "text": [
      "Fitting 5 folds for each of 96 candidates, totalling 480 fits\n"
     ]
    },
    {
     "name": "stderr",
     "output_type": "stream",
     "text": [
      "[Parallel(n_jobs=-1)]: Using backend LokyBackend with 8 concurrent workers.\n",
      "[Parallel(n_jobs=-1)]: Done  34 tasks      | elapsed:    3.5s\n",
      "[Parallel(n_jobs=-1)]: Done 184 tasks      | elapsed:    8.8s\n",
      "[Parallel(n_jobs=-1)]: Done 480 out of 480 | elapsed:   11.8s finished\n"
     ]
    },
    {
     "name": "stdout",
     "output_type": "stream",
     "text": [
      "       Results\n",
      "~~~~~~~~~~~~~~~~~~~~~\n",
      "\n",
      "Train Score: 0.58\n",
      "---\n",
      "Test Score: 0.58\n",
      "\n",
      "Best Parameters:\n",
      "{'base_estimator': None, 'bootstrap': True, 'max_features': 0.5, 'max_samples': 4, 'n_estimators': 10, 'random_state': 6, 'warm_start': True}\n",
      "\n"
     ]
    }
   ],
   "source": [
    "Bag_Params_0 = {\n",
    "    'base_estimator': [None, 'LogisticRegression', 'GaussianNB'],\n",
    "    'n_estimators': [5, 10],\n",
    "    'max_samples' : [1, 4],\n",
    "    'max_features': [.5, 1],\n",
    "    'bootstrap' : [True, False],\n",
    "    'warm_start' : [True, False],\n",
    "    'random_state' : [6]\n",
    "}\n",
    "\n",
    "Bag_Grid = run_gridsearch(BaggingClassifier(), \n",
    "                         X_train, y_train,\n",
    "                         X_test, y_test,\n",
    "                         Bag_Params_0, verbose = 1, num_jobs = -1)\n",
    "\n",
    "pickle.dump(Bag_Grid, open('models/Bagging_Grid_0.p', 'wb'))"
   ]
  },
  {
   "cell_type": "markdown",
   "metadata": {},
   "source": [
    "### 2nd Bag GridSearch"
   ]
  },
  {
   "cell_type": "code",
   "execution_count": 88,
   "metadata": {},
   "outputs": [
    {
     "name": "stdout",
     "output_type": "stream",
     "text": [
      "Fitting 5 folds for each of 36 candidates, totalling 180 fits\n"
     ]
    },
    {
     "name": "stderr",
     "output_type": "stream",
     "text": [
      "[Parallel(n_jobs=-1)]: Using backend LokyBackend with 8 concurrent workers.\n",
      "[Parallel(n_jobs=-1)]: Done  52 tasks      | elapsed:    3.2s\n",
      "[Parallel(n_jobs=-1)]: Done 165 out of 180 | elapsed:    5.5s remaining:    0.5s\n",
      "[Parallel(n_jobs=-1)]: Done 180 out of 180 | elapsed:    6.1s finished\n"
     ]
    },
    {
     "name": "stdout",
     "output_type": "stream",
     "text": [
      "       Results\n",
      "~~~~~~~~~~~~~~~~~~~~~\n",
      "\n",
      "Train Score: 0.62\n",
      "---\n",
      "Test Score: 0.62\n",
      "\n",
      "Best Parameters:\n",
      "{'base_estimator': None, 'bootstrap': True, 'max_features': 0.5, 'max_samples': 10, 'n_estimators': 10, 'oob_score': False, 'random_state': 6, 'warm_start': True}\n",
      "\n"
     ]
    }
   ],
   "source": [
    "Bag_Params_1 = {\n",
    "    'base_estimator': [None, 'LogisticRegression', 'GaussianNB'],\n",
    "    'n_estimators': [10, 20, 40],\n",
    "    'max_samples' : [4, 10],\n",
    "    'max_features': [.5],\n",
    "    'bootstrap' : [True],\n",
    "    'warm_start' : [True],\n",
    "    'oob_score' : [True, False],\n",
    "    'random_state' : [6]\n",
    "}\n",
    "\n",
    "Bag_Grid = run_gridsearch(BaggingClassifier(), \n",
    "                         X_train, y_train,\n",
    "                         X_test, y_test,\n",
    "                         Bag_Params_1, verbose = 1, num_jobs = -1)\n",
    "\n",
    "pickle.dump(Bag_Grid, open('models/Bagging_Grid_1.p', 'wb'))"
   ]
  },
  {
   "cell_type": "markdown",
   "metadata": {},
   "source": [
    "### 3rd Bag GridSearch"
   ]
  },
  {
   "cell_type": "code",
   "execution_count": 89,
   "metadata": {},
   "outputs": [
    {
     "name": "stdout",
     "output_type": "stream",
     "text": [
      "Fitting 5 folds for each of 9 candidates, totalling 45 fits\n"
     ]
    },
    {
     "name": "stderr",
     "output_type": "stream",
     "text": [
      "[Parallel(n_jobs=-1)]: Using backend LokyBackend with 8 concurrent workers.\n",
      "[Parallel(n_jobs=-1)]: Done  45 out of  45 | elapsed:    4.4s finished\n"
     ]
    },
    {
     "name": "stdout",
     "output_type": "stream",
     "text": [
      "       Results\n",
      "~~~~~~~~~~~~~~~~~~~~~\n",
      "\n",
      "Train Score: 0.63\n",
      "---\n",
      "Test Score: 0.63\n",
      "\n",
      "Best Parameters:\n",
      "{'base_estimator': None, 'bootstrap': True, 'max_features': 0.5, 'max_samples': 30, 'n_estimators': 18, 'oob_score': False, 'random_state': 6, 'warm_start': True}\n",
      "\n"
     ]
    }
   ],
   "source": [
    "Bag_Params_2 = {\n",
    "    'base_estimator': [None],\n",
    "    'n_estimators': [10, 15, 18],\n",
    "    'max_samples' : [10, 20, 30],\n",
    "    'max_features': [.5],\n",
    "    'bootstrap' : [True],\n",
    "    'warm_start' : [True],\n",
    "    'oob_score' : [False],\n",
    "    'random_state' : [6]\n",
    "}\n",
    "\n",
    "Bag_Grid = run_gridsearch(BaggingClassifier(), \n",
    "                         X_train, y_train,\n",
    "                         X_test, y_test,\n",
    "                         Bag_Params_2, verbose = 1, num_jobs = -1)\n",
    "\n",
    "pickle.dump(Bag_Grid, open('models/Bagging_Grid_2.p', 'wb'))"
   ]
  },
  {
   "cell_type": "markdown",
   "metadata": {},
   "source": [
    "### 4th Bag GridSearch"
   ]
  },
  {
   "cell_type": "code",
   "execution_count": 90,
   "metadata": {},
   "outputs": [
    {
     "name": "stdout",
     "output_type": "stream",
     "text": [
      "Fitting 5 folds for each of 18 candidates, totalling 90 fits\n"
     ]
    },
    {
     "name": "stderr",
     "output_type": "stream",
     "text": [
      "[Parallel(n_jobs=-1)]: Using backend LokyBackend with 8 concurrent workers.\n",
      "[Parallel(n_jobs=-1)]: Done  34 tasks      | elapsed:    3.0s\n",
      "[Parallel(n_jobs=-1)]: Done  90 out of  90 | elapsed:    7.7s finished\n"
     ]
    },
    {
     "name": "stdout",
     "output_type": "stream",
     "text": [
      "       Results\n",
      "~~~~~~~~~~~~~~~~~~~~~\n",
      "\n",
      "Train Score: 0.65\n",
      "---\n",
      "Test Score: 0.65\n",
      "\n",
      "Best Parameters:\n",
      "{'base_estimator': None, 'bootstrap': True, 'max_features': 0.5, 'max_samples': 45, 'n_estimators': 18, 'oob_score': False, 'random_state': 6, 'warm_start': True}\n",
      "\n"
     ]
    }
   ],
   "source": [
    "Bag_Params_3 = {\n",
    "    'base_estimator': [None],\n",
    "    'n_estimators': [18, 19],\n",
    "    'max_samples' : [35, 40, 45],\n",
    "    'max_features': [0.1, .5, 1],\n",
    "    'bootstrap' : [True],\n",
    "    'warm_start' : [True],\n",
    "    'oob_score' : [False],\n",
    "    'random_state' : [6]\n",
    "}\n",
    "\n",
    "Bag_Grid = run_gridsearch(BaggingClassifier(), \n",
    "                         X_train, y_train,\n",
    "                         X_test, y_test,\n",
    "                         Bag_Params_3, verbose = 1, num_jobs = -1)\n",
    "\n",
    "pickle.dump(Bag_Grid, open('models/Bagging_Grid_3.p', 'wb'))"
   ]
  },
  {
   "cell_type": "markdown",
   "metadata": {},
   "source": [
    "### 5th Bag GridSearch"
   ]
  },
  {
   "cell_type": "code",
   "execution_count": 91,
   "metadata": {},
   "outputs": [
    {
     "name": "stdout",
     "output_type": "stream",
     "text": [
      "Fitting 5 folds for each of 36 candidates, totalling 180 fits\n"
     ]
    },
    {
     "name": "stderr",
     "output_type": "stream",
     "text": [
      "[Parallel(n_jobs=-1)]: Using backend LokyBackend with 8 concurrent workers.\n",
      "[Parallel(n_jobs=-1)]: Done  34 tasks      | elapsed:    3.0s\n",
      "[Parallel(n_jobs=-1)]: Done 180 out of 180 | elapsed:   15.1s finished\n"
     ]
    },
    {
     "name": "stdout",
     "output_type": "stream",
     "text": [
      "       Results\n",
      "~~~~~~~~~~~~~~~~~~~~~\n",
      "\n",
      "Train Score: 0.63\n",
      "---\n",
      "Test Score: 0.63\n",
      "\n",
      "Best Parameters:\n",
      "{'base_estimator': None, 'bootstrap': True, 'bootstrap_features': True, 'max_features': 0.5, 'max_samples': 35, 'n_estimators': 19, 'oob_score': False, 'random_state': 6, 'warm_start': True}\n",
      "\n"
     ]
    }
   ],
   "source": [
    "Bag_Params_4 = {\n",
    "    'base_estimator': [None],\n",
    "    'n_estimators': [18, 19],\n",
    "    'max_samples' : [35, 40, 45],\n",
    "    'max_features': [0.1, .5, 1],\n",
    "    'bootstrap' : [True],\n",
    "    'bootstrap_features' : [True, False], \n",
    "    'warm_start' : [True],\n",
    "    'oob_score' : [False],\n",
    "    'random_state' : [6]\n",
    "}\n",
    "\n",
    "Bag_Grid = run_gridsearch(BaggingClassifier(), \n",
    "                         X_train, y_train,\n",
    "                         X_test, y_test,\n",
    "                         Bag_Params_4, verbose = 1, num_jobs = -1)\n",
    "\n",
    "pickle.dump(Bag_Grid, open('models/Bagging_Grid_4.p', 'wb'))"
   ]
  },
  {
   "cell_type": "markdown",
   "metadata": {},
   "source": [
    "# Tuning AdaBoostClassifier"
   ]
  },
  {
   "cell_type": "markdown",
   "metadata": {},
   "source": [
    "Vanilla Model:"
   ]
  },
  {
   "cell_type": "code",
   "execution_count": 6,
   "metadata": {},
   "outputs": [
    {
     "name": "stdout",
     "output_type": "stream",
     "text": [
      "AdaBoost Vanilla Model\n",
      "Train score: 0.7000115780942456\n",
      "      \n",
      "Test score: 0.701091203797505\n",
      "\n"
     ]
    }
   ],
   "source": [
    "ADA_vanilla = AdaBoostClassifier(random_state=6)\n",
    "ADA_vanilla.fit(X_train, y_train)\n",
    "\n",
    "print(f\"\"\"AdaBoost Vanilla Model\n",
    "Train score: {ADA_vanilla.score(X_train, y_train)}\n",
    "      \n",
    "Test score: {ADA_vanilla.score(X_test, y_test)}\n",
    "\"\"\")"
   ]
  },
  {
   "cell_type": "markdown",
   "metadata": {},
   "source": [
    "### 1st ADA Gridsearch"
   ]
  },
  {
   "cell_type": "code",
   "execution_count": 92,
   "metadata": {},
   "outputs": [
    {
     "name": "stdout",
     "output_type": "stream",
     "text": [
      "Fitting 5 folds for each of 36 candidates, totalling 180 fits\n"
     ]
    },
    {
     "name": "stderr",
     "output_type": "stream",
     "text": [
      "[Parallel(n_jobs=-1)]: Using backend LokyBackend with 8 concurrent workers.\n",
      "[Parallel(n_jobs=-1)]: Done  34 tasks      | elapsed:   42.8s\n",
      "[Parallel(n_jobs=-1)]: Done 180 out of 180 | elapsed:  2.1min finished\n"
     ]
    },
    {
     "name": "stdout",
     "output_type": "stream",
     "text": [
      "       Results\n",
      "~~~~~~~~~~~~~~~~~~~~~\n",
      "\n",
      "Train Score: 0.72\n",
      "---\n",
      "Test Score: 0.72\n",
      "\n",
      "Best Parameters:\n",
      "{'algorithm': 'SAMME.R', 'base_estimator': None, 'learning_rate': 1.5, 'n_estimators': 100, 'random_state': 6}\n",
      "\n"
     ]
    }
   ],
   "source": [
    "ADA_Params_0 = {\n",
    "    'base_estimator' : [None, 'DecisionTreeClassifier(max_depth = 5)'],\n",
    "    'n_estimators' : [25, 50, 100],\n",
    "    'learning_rate' : [.5, 1, 1.5], \n",
    "    'algorithm' : ['SAMME', 'SAMME.R'],\n",
    "    'random_state' : [6]\n",
    "}\n",
    "\n",
    "ADA_Grid = run_gridsearch(AdaBoostClassifier(), \n",
    "                         X_train, y_train,\n",
    "                         X_test, y_test,\n",
    "                         ADA_Params_0, verbose = 1, num_jobs = -1)\n",
    "\n",
    "pickle.dump(ADA_Grid, open('models/ADA_Grid_0.p', 'wb'))"
   ]
  },
  {
   "cell_type": "markdown",
   "metadata": {},
   "source": [
    "### 2nd ADA Gridsearch"
   ]
  },
  {
   "cell_type": "code",
   "execution_count": 93,
   "metadata": {},
   "outputs": [
    {
     "name": "stdout",
     "output_type": "stream",
     "text": [
      "Fitting 5 folds for each of 9 candidates, totalling 45 fits\n"
     ]
    },
    {
     "name": "stderr",
     "output_type": "stream",
     "text": [
      "[Parallel(n_jobs=-1)]: Using backend LokyBackend with 8 concurrent workers.\n",
      "[Parallel(n_jobs=-1)]: Done  45 out of  45 | elapsed:  3.4min finished\n"
     ]
    },
    {
     "name": "stdout",
     "output_type": "stream",
     "text": [
      "       Results\n",
      "~~~~~~~~~~~~~~~~~~~~~\n",
      "\n",
      "Train Score: 0.73\n",
      "---\n",
      "Test Score: 0.73\n",
      "\n",
      "Best Parameters:\n",
      "{'algorithm': 'SAMME.R', 'learning_rate': 1.5, 'n_estimators': 300, 'random_state': 6}\n",
      "\n"
     ]
    }
   ],
   "source": [
    "ADA_Params_1 = {\n",
    "    'n_estimators' : [100, 200, 300],\n",
    "    'learning_rate' : [1.5, 2, 3], \n",
    "    'algorithm' : ['SAMME.R'],\n",
    "    'random_state' : [6]\n",
    "}\n",
    "\n",
    "ADA_Grid = run_gridsearch(AdaBoostClassifier(), \n",
    "                         X_train, y_train,\n",
    "                         X_test, y_test,\n",
    "                         ADA_Params_1, verbose = 1, num_jobs = -1)\n",
    "\n",
    "pickle.dump(ADA_Grid, open('models/ADA_Grid_1.p', 'wb'))"
   ]
  },
  {
   "cell_type": "markdown",
   "metadata": {},
   "source": [
    "### 3rd ADA Gridsearch"
   ]
  },
  {
   "cell_type": "code",
   "execution_count": 94,
   "metadata": {},
   "outputs": [
    {
     "name": "stdout",
     "output_type": "stream",
     "text": [
      "Fitting 5 folds for each of 3 candidates, totalling 15 fits\n"
     ]
    },
    {
     "name": "stderr",
     "output_type": "stream",
     "text": [
      "[Parallel(n_jobs=-1)]: Using backend LokyBackend with 8 concurrent workers.\n",
      "[Parallel(n_jobs=-1)]: Done  15 out of  15 | elapsed:  3.4min finished\n"
     ]
    },
    {
     "name": "stdout",
     "output_type": "stream",
     "text": [
      "       Results\n",
      "~~~~~~~~~~~~~~~~~~~~~\n",
      "\n",
      "Train Score: 0.73\n",
      "---\n",
      "Test Score: 0.73\n",
      "\n",
      "Best Parameters:\n",
      "{'algorithm': 'SAMME.R', 'learning_rate': 1.5, 'n_estimators': 750, 'random_state': 6}\n",
      "\n"
     ]
    }
   ],
   "source": [
    "ADA_Params_2 = {\n",
    "    'n_estimators' : [300, 500, 750],\n",
    "    'learning_rate' : [1.5], \n",
    "    'algorithm' : ['SAMME.R'],\n",
    "    'random_state' : [6]\n",
    "}\n",
    "\n",
    "ADA_Grid = run_gridsearch(AdaBoostClassifier(), \n",
    "                         X_train, y_train,\n",
    "                         X_test, y_test,\n",
    "                         ADA_Params_2, verbose = 1, num_jobs = -1)\n",
    "\n",
    "pickle.dump(ADA_Grid, open('models/ADA_Grid_2.p', 'wb'))"
   ]
  },
  {
   "cell_type": "markdown",
   "metadata": {},
   "source": [
    "### 4th ADA Gridsearch"
   ]
  },
  {
   "cell_type": "code",
   "execution_count": 95,
   "metadata": {},
   "outputs": [
    {
     "name": "stdout",
     "output_type": "stream",
     "text": [
      "Fitting 5 folds for each of 3 candidates, totalling 15 fits\n"
     ]
    },
    {
     "name": "stderr",
     "output_type": "stream",
     "text": [
      "[Parallel(n_jobs=-1)]: Using backend LokyBackend with 8 concurrent workers.\n",
      "[Parallel(n_jobs=-1)]: Done  15 out of  15 | elapsed:  4.6min finished\n"
     ]
    },
    {
     "name": "stdout",
     "output_type": "stream",
     "text": [
      "       Results\n",
      "~~~~~~~~~~~~~~~~~~~~~\n",
      "\n",
      "Train Score: 0.73\n",
      "---\n",
      "Test Score: 0.73\n",
      "\n",
      "Best Parameters:\n",
      "{'algorithm': 'SAMME.R', 'learning_rate': 1.5, 'n_estimators': 1000, 'random_state': 6}\n",
      "\n"
     ]
    }
   ],
   "source": [
    "ADA_Params_3 = {\n",
    "    'n_estimators' : [50, 750, 1000],\n",
    "    'learning_rate' : [1.5], \n",
    "    'algorithm' : ['SAMME.R'],\n",
    "    'random_state' : [6]\n",
    "}\n",
    "\n",
    "ADA_Grid = run_gridsearch(AdaBoostClassifier(), \n",
    "                         X_train, y_train,\n",
    "                         X_test, y_test,\n",
    "                         ADA_Params_3, verbose = 1, num_jobs = -1)\n",
    "\n",
    "pickle.dump(ADA_Grid, open('models/ADA_Grid_3.p', 'wb'))"
   ]
  },
  {
   "cell_type": "markdown",
   "metadata": {},
   "source": [
    "### 5th ADA Gridsearch (FINAL!) "
   ]
  },
  {
   "cell_type": "code",
   "execution_count": 98,
   "metadata": {},
   "outputs": [],
   "source": [
    "Best_Models = []\n",
    "Best_Models.append(pickle.load(open('models/ADA_Grid_3.p', 'rb')))\n",
    "Best_Models.append(pickle.load(open('models/Bagging_Grid_4.p', 'rb')))\n",
    "Best_Models.append(pickle.load(open('models/GradientBoost_Grid_5.p', 'rb')))\n",
    "Best_Models.append(pickle.load(open('models/RandomForest_Grid_4.p', 'rb')))\n",
    "\n",
    "Best_Models_ = {}\n",
    "for model in Best_Models: \n",
    "    key = model.estimator\n",
    "    value = model.best_params_\n",
    "    \n",
    "    Best_Models_[key] = value\n",
    "    \n",
    "pickle.dump(Best_Models_, open('models/BestTunedClassifiers.p', 'wb'))"
   ]
  }
 ],
 "metadata": {
  "environment": {
   "name": "pytorch-gpu.1-4.m55",
   "type": "gcloud",
   "uri": "gcr.io/deeplearning-platform-release/pytorch-gpu.1-4:m55"
  },
  "kernelspec": {
   "display_name": "Python 3",
   "language": "python",
   "name": "python3"
  },
  "language_info": {
   "codemirror_mode": {
    "name": "ipython",
    "version": 3
   },
   "file_extension": ".py",
   "mimetype": "text/x-python",
   "name": "python",
   "nbconvert_exporter": "python",
   "pygments_lexer": "ipython3",
   "version": "3.6.9"
  },
  "toc-autonumbering": false,
  "toc-showcode": false,
  "toc-showmarkdowntxt": false,
  "toc-showtags": false
 },
 "nbformat": 4,
 "nbformat_minor": 4
}
