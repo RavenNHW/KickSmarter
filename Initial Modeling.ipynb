{
 "cells": [
  {
   "cell_type": "code",
   "execution_count": 2,
   "metadata": {},
   "outputs": [],
   "source": [
    "import pandas as pd\n",
    "\n",
    "from sklearn.naive_bayes import GaussianNB\n",
    "from sklearn.pipeline import make_pipeline\n",
    "from sklearn.preprocessing import StandardScaler\n",
    "from sklearn.tree import DecisionTreeClassifier\n",
    "from sklearn.ensemble import RandomForestClassifier\n",
    "from sklearn.metrics import plot_confusion_matrix\n",
    "from sklearn.metrics import classification_report\n",
    "\n",
    "from joblib import dump, load"
   ]
  },
  {
   "cell_type": "code",
   "execution_count": 3,
   "metadata": {},
   "outputs": [],
   "source": [
    "train_df = pd.read_pickle('data/KS_train_data.pkl')\n",
    "\n",
    "train_df = train_df.set_index('id', drop = True)\n",
    "\n",
    "test_df = pd.read_pickle('data/KS_test_data.pkl')\n",
    "test_df = test_df.set_index('id', drop = True)"
   ]
  },
  {
   "cell_type": "code",
   "execution_count": 4,
   "metadata": {},
   "outputs": [],
   "source": [
    "X_train = train_df.drop(columns = ['state', 'deadline', 'launched_at', 'converted_pledged_amount', 'spotlight', 'backers_count'])\n",
    "y_train = train_df.state\n",
    "\n",
    "X_test = test_df.drop(columns = ['state', 'deadline', 'launched_at', 'converted_pledged_amount', 'spotlight', 'backers_count'])\n",
    "y_test = test_df.state"
   ]
  },
  {
   "cell_type": "code",
   "execution_count": 5,
   "metadata": {},
   "outputs": [
    {
     "data": {
      "text/html": [
       "<div>\n",
       "<style scoped>\n",
       "    .dataframe tbody tr th:only-of-type {\n",
       "        vertical-align: middle;\n",
       "    }\n",
       "\n",
       "    .dataframe tbody tr th {\n",
       "        vertical-align: top;\n",
       "    }\n",
       "\n",
       "    .dataframe thead th {\n",
       "        text-align: right;\n",
       "    }\n",
       "</style>\n",
       "<table border=\"1\" class=\"dataframe\">\n",
       "  <thead>\n",
       "    <tr style=\"text-align: right;\">\n",
       "      <th></th>\n",
       "      <th>country</th>\n",
       "      <th>currency</th>\n",
       "      <th>disable_communication</th>\n",
       "      <th>goal</th>\n",
       "      <th>is_starrable</th>\n",
       "      <th>staff_pick</th>\n",
       "      <th>category_parent_name</th>\n",
       "      <th>blurb_len</th>\n",
       "    </tr>\n",
       "    <tr>\n",
       "      <th>id</th>\n",
       "      <th></th>\n",
       "      <th></th>\n",
       "      <th></th>\n",
       "      <th></th>\n",
       "      <th></th>\n",
       "      <th></th>\n",
       "      <th></th>\n",
       "      <th></th>\n",
       "    </tr>\n",
       "  </thead>\n",
       "  <tbody>\n",
       "    <tr>\n",
       "      <th>1607951133</th>\n",
       "      <td>3</td>\n",
       "      <td>1</td>\n",
       "      <td>False</td>\n",
       "      <td>10000.0</td>\n",
       "      <td>False</td>\n",
       "      <td>True</td>\n",
       "      <td>7</td>\n",
       "      <td>54</td>\n",
       "    </tr>\n",
       "    <tr>\n",
       "      <th>720792194</th>\n",
       "      <td>21</td>\n",
       "      <td>13</td>\n",
       "      <td>False</td>\n",
       "      <td>5000.0</td>\n",
       "      <td>False</td>\n",
       "      <td>False</td>\n",
       "      <td>10</td>\n",
       "      <td>133</td>\n",
       "    </tr>\n",
       "    <tr>\n",
       "      <th>618798036</th>\n",
       "      <td>8</td>\n",
       "      <td>4</td>\n",
       "      <td>False</td>\n",
       "      <td>5000.0</td>\n",
       "      <td>False</td>\n",
       "      <td>False</td>\n",
       "      <td>4</td>\n",
       "      <td>115</td>\n",
       "    </tr>\n",
       "  </tbody>\n",
       "</table>\n",
       "</div>"
      ],
      "text/plain": [
       "            country  currency  disable_communication     goal  is_starrable  \\\n",
       "id                                                                            \n",
       "1607951133        3         1                  False  10000.0         False   \n",
       "720792194        21        13                  False   5000.0         False   \n",
       "618798036         8         4                  False   5000.0         False   \n",
       "\n",
       "            staff_pick  category_parent_name  blurb_len  \n",
       "id                                                       \n",
       "1607951133        True                     7         54  \n",
       "720792194        False                    10        133  \n",
       "618798036        False                     4        115  "
      ]
     },
     "execution_count": 5,
     "metadata": {},
     "output_type": "execute_result"
    }
   ],
   "source": [
    "X_train.head(3)"
   ]
  },
  {
   "cell_type": "code",
   "execution_count": 20,
   "metadata": {},
   "outputs": [
    {
     "name": "stdout",
     "output_type": "stream",
     "text": [
      "              precision    recall  f1-score   support\n",
      "\n",
      "           0       0.86      0.90      0.88     36526\n",
      "           1       0.92      0.89      0.91     49844\n",
      "\n",
      "    accuracy                           0.89     86370\n",
      "   macro avg       0.89      0.89      0.89     86370\n",
      "weighted avg       0.89      0.89      0.89     86370\n",
      "\n",
      "              precision    recall  f1-score   support\n",
      "\n",
      "           0       0.56      0.59      0.58     36261\n",
      "           1       0.69      0.67      0.68     50109\n",
      "\n",
      "    accuracy                           0.64     86370\n",
      "   macro avg       0.63      0.63      0.63     86370\n",
      "weighted avg       0.64      0.64      0.64     86370\n",
      "\n",
      "Wall time: 1.58 s\n"
     ]
    }
   ],
   "source": [
    "%%time\n",
    "\n",
    "pipe = make_pipeline(StandardScaler(), DecisionTreeClassifier())\n",
    "\n",
    "pipe.fit(X_train, y_train)\n",
    "y_train_preds = pipe.predict(X_train)\n",
    "y_test_preds = pipe.predict(X_test)\n",
    "print(classification_report(y_train, y_train_preds))\n",
    "print(classification_report(y_test, y_test_preds))"
   ]
  },
  {
   "cell_type": "code",
   "execution_count": 21,
   "metadata": {},
   "outputs": [
    {
     "name": "stdout",
     "output_type": "stream",
     "text": [
      "              precision    recall  f1-score   support\n",
      "\n",
      "           0       0.89      0.85      0.87     36526\n",
      "           1       0.89      0.92      0.91     49844\n",
      "\n",
      "    accuracy                           0.89     86370\n",
      "   macro avg       0.89      0.89      0.89     86370\n",
      "weighted avg       0.89      0.89      0.89     86370\n",
      "\n",
      "              precision    recall  f1-score   support\n",
      "\n",
      "           0       0.61      0.57      0.59     36261\n",
      "           1       0.70      0.73      0.72     50109\n",
      "\n",
      "    accuracy                           0.67     86370\n",
      "   macro avg       0.66      0.65      0.65     86370\n",
      "weighted avg       0.66      0.67      0.66     86370\n",
      "\n",
      "Wall time: 29.9 s\n"
     ]
    }
   ],
   "source": [
    "%%time\n",
    "\n",
    "pipe = make_pipeline(StandardScaler(), RandomForestClassifier())\n",
    "\n",
    "pipe.fit(X_train, y_train)\n",
    "y_train_preds = pipe.predict(X_train)\n",
    "y_test_preds = pipe.predict(X_test)\n",
    "print(classification_report(y_train, y_train_preds))\n",
    "print(classification_report(y_test, y_test_preds))"
   ]
  },
  {
   "cell_type": "code",
   "execution_count": null,
   "metadata": {},
   "outputs": [],
   "source": []
  }
 ],
 "metadata": {
  "kernelspec": {
   "display_name": "learn-env",
   "language": "python",
   "name": "learn-env"
  },
  "language_info": {
   "codemirror_mode": {
    "name": "ipython",
    "version": 3
   },
   "file_extension": ".py",
   "mimetype": "text/x-python",
   "name": "python",
   "nbconvert_exporter": "python",
   "pygments_lexer": "ipython3",
   "version": "3.6.9"
  }
 },
 "nbformat": 4,
 "nbformat_minor": 4
}
